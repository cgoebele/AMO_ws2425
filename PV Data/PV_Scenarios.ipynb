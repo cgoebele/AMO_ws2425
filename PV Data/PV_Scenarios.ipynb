{
 "cells": [
  {
   "cell_type": "code",
   "execution_count": 24,
   "metadata": {},
   "outputs": [
    {
     "name": "stdout",
     "output_type": "stream",
     "text": [
      "{0: array([  2.55405405, 290.09159159, 203.95945946,   0.43093093]), 1: array([ 11.9291939 , 521.13616558, 393.82788671,   2.42810458]), 2: array([2.07920792e-01, 7.63844884e+01, 6.44389439e+01, 5.61056106e-02])}\n"
     ]
    },
    {
     "name": "stderr",
     "output_type": "stream",
     "text": [
      "/var/folders/rb/3m_pjg895g77749xhmj18fq40000gn/T/ipykernel_5528/3269922864.py:24: FutureWarning: The provided callable <function mean at 0x10cbfbc40> is currently using DataFrameGroupBy.mean. In a future version of pandas, the provided callable will be used directly. To keep current behavior pass the string \"mean\" instead.\n",
      "  daily_profiles = df.pivot_table(index=\"date\", columns=\"hour\", values=\"electricity\", aggfunc=np.mean)\n"
     ]
    }
   ],
   "source": [
    "import pandas as pd\n",
    "import numpy as np\n",
    "from sklearn.cluster import KMeans\n",
    "\n",
    "def generate_pv_scenarios(csv_file, num_scenarios=3, num_periods=4):\n",
    "    # Load the PV production data\n",
    "    df = pd.read_csv(csv_file, sep = ';')\n",
    "    df.dropna(axis = 'columns', inplace = True)\n",
    "\n",
    "    # Ensure proper datetime parsing\n",
    "    df[\"time\"] = pd.to_datetime(df[\"time\"])\n",
    "    df.set_index(\"time\", inplace=True)\n",
    "    \n",
    "    # Aggregate data into daily segments\n",
    "    df[\"date\"] = df.index.date\n",
    "    daily_pv = df.groupby(\"date\")[\"electricity\"].sum()\n",
    "    \n",
    "    # Normalize by daily maximum to create patterns\n",
    "    daily_pv_normalized = daily_pv / daily_pv.max()\n",
    "    daily_pv_normalized = daily_pv_normalized.fillna(0)\n",
    "    \n",
    "    # Reshape data into daily profiles\n",
    "    df[\"hour\"] = df.index.hour\n",
    "    daily_profiles = df.pivot_table(index=\"date\", columns=\"hour\", values=\"electricity\", aggfunc=np.mean)\n",
    "    daily_profiles = daily_profiles.fillna(0)\n",
    "    \n",
    "    # Cluster days into `num_scenarios` using KMeans\n",
    "    kmeans = KMeans(n_clusters=num_scenarios, random_state=42, n_init=10)\n",
    "    daily_profiles[\"scenario\"] = kmeans.fit_predict(daily_profiles)\n",
    "    \n",
    "    # Get representative days for each scenario\n",
    "    scenario_representatives = daily_profiles.groupby(\"scenario\").mean()\n",
    "    \n",
    "    # Break each representative day into `num_periods` by averaging over periods\n",
    "    period_length = 24 // num_periods\n",
    "    scenario_periods = {}\n",
    "    \n",
    "    for scenario, row in scenario_representatives.iterrows():\n",
    "        hourly_values = row.values[:24].reshape(num_periods, period_length).mean(axis=1)\n",
    "        scenario_periods[scenario] = hourly_values\n",
    "    \n",
    "    return scenario_periods\n",
    "\n",
    "# Example usage:\n",
    "scenarios = generate_pv_scenarios(\"/Users/chris/Downloads/pv_hourly2019_cologne.csv\", num_scenarios=3, num_periods=4)\n",
    "print(scenarios)\n"
   ]
  }
 ],
 "metadata": {
  "kernelspec": {
   "display_name": "Python 3",
   "language": "python",
   "name": "python3"
  },
  "language_info": {
   "codemirror_mode": {
    "name": "ipython",
    "version": 3
   },
   "file_extension": ".py",
   "mimetype": "text/x-python",
   "name": "python",
   "nbconvert_exporter": "python",
   "pygments_lexer": "ipython3",
   "version": "3.12.1"
  }
 },
 "nbformat": 4,
 "nbformat_minor": 2
}
