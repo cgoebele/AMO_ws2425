{
 "cells": [
  {
   "cell_type": "code",
   "execution_count": null,
   "metadata": {},
   "outputs": [],
   "source": [
    "import pandas as pd\n",
    "import numpy as np\n",
    "from sklearn.cluster import KMeans\n",
    "import matplotlib.pyplot as plt\n",
    "\n",
    "np.random.seed(21)\n",
    "num_scenarios = 100\n",
    "\n",
    "file_path = 'C:/Users/LIWFG/Downloads/pv_hourly2019_cologne.csv'\n",
    "df = pd.read_csv(file_path)\n",
    "\n",
    "\n",
    "electricity = df['electricity'].values\n",
    "\n",
    "scenarios = np.array([\n",
    "    electricity + np.random.normal(0, np.std(electricity) * 0.1, len(electricity))\n",
    "    for _ in range(num_scenarios)\n",
    "])\n",
    "scenarios = np.maximum(scenarios, 0) \n",
    "\n",
    "percentiles = np.linspace(0, 100, num_scenarios)\n",
    "electricity_distribution = np.percentile(scenarios.flatten(), percentiles)\n",
    "\n",
    "distribution_df = pd.DataFrame({\n",
    "    \"Percentile\": percentiles,\n",
    "    \"Electricity_Value\": electricity_distribution\n",
    "})\n",
    "\n",
    "distribution_df"
   ]
  },
  {
   "cell_type": "code",
   "execution_count": 14,
   "metadata": {},
   "outputs": [
    {
     "data": {
      "text/plain": [
       "array([0.00514204, 0.5206782 , 0.23433441, 0.71718267, 0.13169408,\n",
       "       0.92833989, 0.3352336 , 0.613405  , 0.04602713, 0.42160064])"
      ]
     },
     "execution_count": 14,
     "metadata": {},
     "output_type": "execute_result"
    }
   ],
   "source": [
    "# clustering for 10 representative scenarios\n",
    "elec = distribution_df[\"Electricity_Value\"].values.reshape(-1, 1)\n",
    "\n",
    "num_clusters = 10\n",
    "kmeans = KMeans(n_clusters=num_clusters, random_state=42, n_init=10)\n",
    "distribution_df[\"Cluster\"] = kmeans.fit_predict(elec)\n",
    "\n",
    "cluster_centers = kmeans.cluster_centers_.flatten()\n",
    "cluster_centers"
   ]
  }
 ],
 "metadata": {
  "kernelspec": {
   "display_name": "Python 3",
   "language": "python",
   "name": "python3"
  },
  "language_info": {
   "codemirror_mode": {
    "name": "ipython",
    "version": 3
   },
   "file_extension": ".py",
   "mimetype": "text/x-python",
   "name": "python",
   "nbconvert_exporter": "python",
   "pygments_lexer": "ipython3",
   "version": "3.12.0"
  }
 },
 "nbformat": 4,
 "nbformat_minor": 2
}
