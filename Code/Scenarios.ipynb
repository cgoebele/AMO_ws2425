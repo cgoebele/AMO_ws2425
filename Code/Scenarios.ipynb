{
 "cells": [
  {
   "cell_type": "code",
   "execution_count": 6,
   "metadata": {},
   "outputs": [
    {
     "name": "stdout",
     "output_type": "stream",
     "text": [
      "PV_Scenarios = {1: {(1, 1): 2.6, (1, 2): 290.1, (1, 3): 204.0, (1, 4): 0.4}, 2: {(2, 1): 11.9, (2, 2): 521.1, (2, 3): 393.8, (2, 4): 2.4}, 3: {(3, 1): 0.2, (3, 2): 76.4, (3, 3): 64.4, (3, 4): 0.1}}\n"
     ]
    },
    {
     "name": "stderr",
     "output_type": "stream",
     "text": [
      "/var/folders/rb/3m_pjg895g77749xhmj18fq40000gn/T/ipykernel_5971/1476417356.py:24: FutureWarning: The provided callable <function mean at 0x112f742c0> is currently using DataFrameGroupBy.mean. In a future version of pandas, the provided callable will be used directly. To keep current behavior pass the string \"mean\" instead.\n",
      "  daily_profiles = df.pivot_table(index=\"date\", columns=\"hour\", values=\"electricity\", aggfunc=np.mean)\n"
     ]
    }
   ],
   "source": [
    "import pandas as pd\n",
    "import numpy as np\n",
    "from sklearn.cluster import KMeans\n",
    "\n",
    "def generate_pv_scenarios(csv_file, num_scenarios=3, num_periods=4):\n",
    "    # Load the PV production data\n",
    "    df = pd.read_csv(csv_file, sep=';')\n",
    "    df.dropna(axis='columns', inplace=True)\n",
    "    \n",
    "    # Ensure proper datetime parsing\n",
    "    df[\"time\"] = pd.to_datetime(df[\"time\"])\n",
    "    df.set_index(\"time\", inplace=True)\n",
    "    \n",
    "    # Aggregate data into daily segments\n",
    "    df[\"date\"] = df.index.date\n",
    "    daily_pv = df.groupby(\"date\")[\"electricity\"].sum()\n",
    "    \n",
    "    # Normalize by daily maximum to create patterns\n",
    "    daily_pv_normalized = daily_pv / daily_pv.max()\n",
    "    daily_pv_normalized = daily_pv_normalized.fillna(0)\n",
    "    \n",
    "    # Reshape data into daily profiles\n",
    "    df[\"hour\"] = df.index.hour\n",
    "    daily_profiles = df.pivot_table(index=\"date\", columns=\"hour\", values=\"electricity\", aggfunc=np.mean)\n",
    "    daily_profiles = daily_profiles.fillna(0)\n",
    "    \n",
    "    # Cluster days into `num_scenarios` using KMeans\n",
    "    kmeans = KMeans(n_clusters=num_scenarios, random_state=42, n_init=10)\n",
    "    daily_profiles[\"scenario\"] = kmeans.fit_predict(daily_profiles)\n",
    "    \n",
    "    # Get representative days for each scenario\n",
    "    scenario_representatives = daily_profiles.groupby(\"scenario\").mean()\n",
    "    \n",
    "    # Break each representative day into `num_periods` by averaging over periods\n",
    "    period_length = 24 // num_periods\n",
    "    scenario_periods = {}\n",
    "    \n",
    "    for scenario, row in scenario_representatives.iterrows():\n",
    "        hourly_values = np.mean(row.values[:24].reshape(num_periods, period_length), axis=1)\n",
    "        scenario_periods[scenario + 1] = { (scenario + 1, t + 1): round(v, 1) for t, v in enumerate(hourly_values) }\n",
    "    \n",
    "    return scenario_periods\n",
    "\n",
    "# Example usage:\n",
    "scenarios = generate_pv_scenarios(\"/Users/chris/Downloads/pv_hourly2019_cologne.csv\", num_scenarios=3, num_periods=4)\n",
    "\n",
    "# Format the output to match Julia dictionary style\n",
    "print(\"PV_Scenarios =\", scenarios)\n"
   ]
  },
  {
   "cell_type": "code",
   "execution_count": 7,
   "metadata": {},
   "outputs": [
    {
     "name": "stderr",
     "output_type": "stream",
     "text": [
      "/var/folders/rb/3m_pjg895g77749xhmj18fq40000gn/T/ipykernel_5971/1079294778.py:24: FutureWarning: The provided callable <function mean at 0x112f742c0> is currently using DataFrameGroupBy.mean. In a future version of pandas, the provided callable will be used directly. To keep current behavior pass the string \"mean\" instead.\n",
      "  daily_profiles = df.pivot_table(index=\"date\", columns=\"hour\", values=\"electricity\", aggfunc=np.mean)\n",
      "/var/folders/rb/3m_pjg895g77749xhmj18fq40000gn/T/ipykernel_5971/1079294778.py:24: FutureWarning: The provided callable <function mean at 0x112f742c0> is currently using DataFrameGroupBy.mean. In a future version of pandas, the provided callable will be used directly. To keep current behavior pass the string \"mean\" instead.\n",
      "  daily_profiles = df.pivot_table(index=\"date\", columns=\"hour\", values=\"electricity\", aggfunc=np.mean)\n"
     ]
    }
   ],
   "source": [
    "import pandas as pd\n",
    "import numpy as np\n",
    "from sklearn.cluster import KMeans\n",
    "\n",
    "def generate_scenarios(csv_file, num_scenarios=3, num_periods=4):\n",
    "    # Load the production data\n",
    "    df = pd.read_csv(csv_file, sep=';')\n",
    "    df.dropna(axis='columns', inplace=True)\n",
    "    \n",
    "    # Ensure proper datetime parsing\n",
    "    df[\"time\"] = pd.to_datetime(df[\"time\"])\n",
    "    df.set_index(\"time\", inplace=True)\n",
    "    \n",
    "    # Aggregate data into daily segments\n",
    "    df[\"date\"] = df.index.date\n",
    "    daily_prod = df.groupby(\"date\")[\"electricity\"].sum()\n",
    "    \n",
    "    # Normalize by daily maximum to create patterns\n",
    "    daily_prod_normalized = daily_prod / daily_prod.max()\n",
    "    daily_prod_normalized = daily_prod_normalized.fillna(0)\n",
    "    \n",
    "    # Reshape data into daily profiles\n",
    "    df[\"hour\"] = df.index.hour\n",
    "    daily_profiles = df.pivot_table(index=\"date\", columns=\"hour\", values=\"electricity\", aggfunc=np.mean)\n",
    "    daily_profiles = daily_profiles.fillna(0)\n",
    "    \n",
    "    # Cluster days into `num_scenarios` using KMeans\n",
    "    kmeans = KMeans(n_clusters=num_scenarios, random_state=42, n_init=10)\n",
    "    daily_profiles[\"scenario\"] = kmeans.fit_predict(daily_profiles)\n",
    "    \n",
    "    # Get representative days for each scenario\n",
    "    scenario_representatives = daily_profiles.groupby(\"scenario\").mean()\n",
    "    \n",
    "    # Break each representative day into `num_periods` by averaging over periods\n",
    "    period_length = 24 // num_periods\n",
    "    scenario_periods = {}\n",
    "    \n",
    "    for scenario, row in scenario_representatives.iterrows():\n",
    "        hourly_values = np.mean(row.values[:24].reshape(num_periods, period_length), axis=1)\n",
    "        scenario_periods[scenario + 1] = { (scenario + 1, t + 1): round(float(v), 1) for t, v in enumerate(hourly_values) }\n",
    "    \n",
    "    return scenario_periods\n",
    "\n",
    "# Generate PV and wind scenarios\n",
    "pv_scenarios = generate_scenarios(\"/Users/chris/Downloads/pv_hourly2019_cologne.csv\", num_scenarios=3, num_periods=4)\n",
    "wind_scenarios = generate_scenarios(\"/Users/chris/Downloads/wind_hourly_2019_cgn.csv\", num_scenarios=3, num_periods=4)"
   ]
  },
  {
   "cell_type": "code",
   "execution_count": 9,
   "metadata": {},
   "outputs": [
    {
     "name": "stdout",
     "output_type": "stream",
     "text": [
      "{1: {(1, 1): 320.1, (1, 2): 299.6, (1, 3): 333.5, (1, 4): 343.3}, 2: {(2, 1): 144.1, (2, 2): 102.2, (2, 3): 120.8, (2, 4): 162.1}, 3: {(3, 1): 539.6, (3, 2): 629.1, (3, 3): 659.3, (3, 4): 579.8}}\n"
     ]
    }
   ],
   "source": [
    "print(wind_scenarios)"
   ]
  },
  {
   "cell_type": "code",
   "execution_count": 10,
   "metadata": {},
   "outputs": [
    {
     "name": "stdout",
     "output_type": "stream",
     "text": [
      "{1: {(1, 1): 2.6, (1, 2): 290.1, (1, 3): 204.0, (1, 4): 0.4}, 2: {(2, 1): 11.9, (2, 2): 521.1, (2, 3): 393.8, (2, 4): 2.4}, 3: {(3, 1): 0.2, (3, 2): 76.4, (3, 3): 64.4, (3, 4): 0.1}}\n"
     ]
    }
   ],
   "source": [
    "print(pv_scenarios)"
   ]
  }
 ],
 "metadata": {
  "kernelspec": {
   "display_name": "Python 3",
   "language": "python",
   "name": "python3"
  },
  "language_info": {
   "codemirror_mode": {
    "name": "ipython",
    "version": 3
   },
   "file_extension": ".py",
   "mimetype": "text/x-python",
   "name": "python",
   "nbconvert_exporter": "python",
   "pygments_lexer": "ipython3",
   "version": "3.12.1"
  }
 },
 "nbformat": 4,
 "nbformat_minor": 2
}
