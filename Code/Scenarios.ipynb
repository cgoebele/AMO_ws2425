{
 "cells": [
  {
   "cell_type": "code",
   "execution_count": 9,
   "metadata": {},
   "outputs": [
    {
     "name": "stderr",
     "output_type": "stream",
     "text": [
      "/var/folders/rb/3m_pjg895g77749xhmj18fq40000gn/T/ipykernel_11216/3518404438.py:24: FutureWarning: The provided callable <function mean at 0x10dc104a0> is currently using DataFrameGroupBy.mean. In a future version of pandas, the provided callable will be used directly. To keep current behavior pass the string \"mean\" instead.\n",
      "  daily_profiles = df.pivot_table(index=\"date\", columns=\"hour\", values=\"electricity\", aggfunc=np.mean)\n",
      "/var/folders/rb/3m_pjg895g77749xhmj18fq40000gn/T/ipykernel_11216/3518404438.py:24: FutureWarning: The provided callable <function mean at 0x10dc104a0> is currently using DataFrameGroupBy.mean. In a future version of pandas, the provided callable will be used directly. To keep current behavior pass the string \"mean\" instead.\n",
      "  daily_profiles = df.pivot_table(index=\"date\", columns=\"hour\", values=\"electricity\", aggfunc=np.mean)\n"
     ]
    }
   ],
   "source": [
    "import pandas as pd\n",
    "import numpy as np\n",
    "from sklearn.cluster import KMeans\n",
    "\n",
    "def generate_scenarios(csv_file, num_scenarios=3, num_periods=4):\n",
    "    # Load the production data\n",
    "    df = pd.read_csv(csv_file, sep=';')\n",
    "    df.dropna(axis='columns', inplace=True)\n",
    "    \n",
    "    # Ensure proper datetime parsing\n",
    "    df[\"time\"] = pd.to_datetime(df[\"time\"])\n",
    "    df.set_index(\"time\", inplace=True)\n",
    "    \n",
    "    # Aggregate data into daily segments\n",
    "    df[\"date\"] = df.index.date\n",
    "    daily_prod = df.groupby(\"date\")[\"electricity\"].sum()\n",
    "    \n",
    "    # Normalize by daily maximum to create patterns\n",
    "    daily_prod_normalized = daily_prod / daily_prod.max()\n",
    "    daily_prod_normalized = daily_prod_normalized.fillna(0)\n",
    "    \n",
    "    # Reshape data into daily profiles\n",
    "    df[\"hour\"] = df.index.hour\n",
    "    daily_profiles = df.pivot_table(index=\"date\", columns=\"hour\", values=\"electricity\", aggfunc=np.mean)\n",
    "    daily_profiles = daily_profiles.fillna(0)\n",
    "    \n",
    "    # Cluster days into `num_scenarios` using KMeans\n",
    "    kmeans = KMeans(n_clusters=num_scenarios, random_state=42, n_init=10)\n",
    "    daily_profiles[\"scenario\"] = kmeans.fit_predict(daily_profiles)\n",
    "    \n",
    "    # Get representative days for each scenario\n",
    "    scenario_representatives = daily_profiles.groupby(\"scenario\").mean()\n",
    "    \n",
    "    # Break each representative day into `num_periods` by averaging over periods\n",
    "    period_length = 24 // num_periods\n",
    "    scenario_periods = {}\n",
    "\n",
    "    for scenario, row in scenario_representatives.iterrows():\n",
    "        hourly_values = np.mean(row.values[:24].reshape(num_periods, period_length), axis=1)\n",
    "        scenario_periods[scenario + 1] = [round(float(v), 1)/10 for v in hourly_values]\n",
    "\n",
    "    # Convert to DataFrame\n",
    "    df_result = pd.DataFrame.from_dict(scenario_periods, orient='index', columns=[i+1 for i in range(num_periods)])\n",
    "    \n",
    "    return df_result\n",
    "\n",
    "pv_scenarios = generate_scenarios(\"/Users/chris/Downloads/pv_hourly2019_cologne.csv\", num_scenarios=3, num_periods=8)\n",
    "wind_scenarios = generate_scenarios(\"/Users/chris/Downloads/wind_hourly_2019_cgn.csv\", num_scenarios=3, num_periods=8)"
   ]
  },
  {
   "cell_type": "code",
   "execution_count": 10,
   "metadata": {},
   "outputs": [
    {
     "name": "stdout",
     "output_type": "stream",
     "text": [
      "       1      2      3      4      5      6      7      8\n",
      "1  32.63  31.40  28.52  31.40  33.26  33.43  34.59  34.06\n",
      "2  15.79  13.04  10.11  10.33  11.47  12.69  15.69  16.73\n",
      "3  53.79  54.13  59.43  66.39  67.63  64.22  60.45  55.51\n"
     ]
    }
   ],
   "source": [
    "print(wind_scenarios)\n"
   ]
  },
  {
   "cell_type": "code",
   "execution_count": 11,
   "metadata": {},
   "outputs": [
    {
     "name": "stdout",
     "output_type": "stream",
     "text": [
      "     1     2      3      4      5      6     7    8\n",
      "1  0.0  0.51  14.71  43.31  34.40   6.39  0.09  0.0\n",
      "2  0.0  2.39  35.49  68.73  59.69  19.08  0.49  0.0\n",
      "3  0.0  0.04   2.66  12.62  11.59   1.30  0.01  0.0\n"
     ]
    }
   ],
   "source": [
    "print(pv_scenarios)\n"
   ]
  },
  {
   "cell_type": "code",
   "execution_count": 12,
   "metadata": {},
   "outputs": [],
   "source": [
    "pd.DataFrame.to_csv(wind_scenarios, 'wind_scenarios.csv')\n",
    "pd.DataFrame.to_csv(pv_scenarios, 'pv_scenarios.csv')"
   ]
  }
 ],
 "metadata": {
  "kernelspec": {
   "display_name": "Python 3",
   "language": "python",
   "name": "python3"
  },
  "language_info": {
   "codemirror_mode": {
    "name": "ipython",
    "version": 3
   },
   "file_extension": ".py",
   "mimetype": "text/x-python",
   "name": "python",
   "nbconvert_exporter": "python",
   "pygments_lexer": "ipython3",
   "version": "3.12.1"
  }
 },
 "nbformat": 4,
 "nbformat_minor": 2
}
